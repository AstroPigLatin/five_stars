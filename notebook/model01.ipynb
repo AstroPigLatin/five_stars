{
 "cells": [
  {
   "cell_type": "code",
   "execution_count": 44,
   "metadata": {
    "execution": {
     "iopub.execute_input": "2020-09-16T02:54:25.495553Z",
     "iopub.status.busy": "2020-09-16T02:54:25.493479Z",
     "iopub.status.idle": "2020-09-16T02:54:25.631528Z",
     "shell.execute_reply": "2020-09-16T02:54:25.630107Z",
     "shell.execute_reply.started": "2020-09-16T02:54:25.495475Z"
    }
   },
   "outputs": [],
   "source": [
    "# List of imports\n",
    "import matplotlib.pyplot as plt\n",
    "from tqdm import tqdm\n",
    "import numpy as np\n",
    "import cv2 \n",
    "import os\n",
    "import pandas as pd\n",
    "\n",
    "import tensorflow as tf\n",
    "# from tensorflow.keras.preprocessing image import ImageDataGenerator, image\n",
    "from tensorflow.keras.preprocessing.image import ImageDataGenerator\n",
    "from tensorflow.keras.preprocessing import image\n",
    "from tensorflow.keras.optimizers import Adam\n",
    "from tensorflow.keras.layers import Dense, Activation\n",
    "from tensorflow.keras.models import Model\n",
    "from sklearn.metrics import confusion_matrix\n",
    "\n",
    "import itertools\n",
    "import shutil\n",
    "import random\n",
    "%matplotlib inline"
   ]
  },
  {
   "cell_type": "code",
   "execution_count": null,
   "metadata": {},
   "outputs": [],
   "source": [
    "# # Review:\n",
    "# - import shutil\n",
    "# - import itertools\n"
   ]
  },
  {
   "cell_type": "code",
   "execution_count": 45,
   "metadata": {
    "execution": {
     "iopub.execute_input": "2020-09-16T02:54:26.980402Z",
     "iopub.status.busy": "2020-09-16T02:54:26.980137Z",
     "iopub.status.idle": "2020-09-16T02:54:26.986273Z",
     "shell.execute_reply": "2020-09-16T02:54:26.983846Z",
     "shell.execute_reply.started": "2020-09-16T02:54:26.980370Z"
    }
   },
   "outputs": [],
   "source": [
    "train_path = 'data/train'\n",
    "valid_path = 'data/valid'\n",
    "test_path = 'data/test'"
   ]
  },
  {
   "cell_type": "code",
   "execution_count": null,
   "metadata": {},
   "outputs": [],
   "source": [
    "print(tf.__version__)\n",
    "# 2.3.0"
   ]
  },
  {
   "cell_type": "code",
   "execution_count": null,
   "metadata": {},
   "outputs": [],
   "source": [
    "# legacy: ImageDataGenerator (deprecated*???*)\n",
    "# my_syntax: *???* -- unsure; question later\n",
    "# current: image_dataset_from_directory"
   ]
  },
  {
   "cell_type": "code",
   "execution_count": null,
   "metadata": {},
   "outputs": [],
   "source": [
    "# # Documentation: https://blog.tensorflow.org/2020/07/whats-new-in-tensorflow-2-3.html\n",
    "# train_ds = tf.keras.preprocessing.image_dataset_from_directory(\n",
    "#   “datasets/cats_and_dogs”,\n",
    "#   validation_split=0.2,\n",
    "#   subset=\"training\",\n",
    "#   seed=0,\n",
    "#   image_size=(img_height, img_width),\n",
    "#   batch_size=32)\n",
    "\n",
    "# #Previous:\n",
    "# train_batches = tf.keras.preprocessing.image_dataset_from_directory(preprocessing_function=tf.keras.applications.mobilenet.preprocess_input).flow_from_directory(train_path, target_size=(224,224), batch_size=10\n",
    "# valid_batches = ImageDataGenerator(preprocessing_function=tf.keras.applications.mobilenet.preprocess_input).flow_from_directory(valid_path, target_size=(224,224), batch_size=10)\n",
    "\n",
    "## Update: 2020-07-27\n",
    "## Documentation: https://blog.tensorflow.org/2020/07/whats-new-in-tensorflow-2-3.html"
   ]
  },
  {
   "cell_type": "code",
   "execution_count": null,
   "metadata": {},
   "outputs": [],
   "source": [
    "# Previous: batch_size=32\n",
    "# train_batches = tf.keras.preprocessing.image_dataset_from_directory(\"data/train\", validation_split=0.2, subset=\"training\", seed=0, image_size=(224,224), batch_size=32)\n",
    "# Found 16116 files belonging to 11 classes.\n",
    "# Using 12893 files for training."
   ]
  },
  {
   "cell_type": "code",
   "execution_count": null,
   "metadata": {},
   "outputs": [],
   "source": [
    "# Current: batch_size=10\n",
    "# train_batches = tf.keras.preprocessing.image_dataset_from_directory(\"data/train\", validation_split=0.2, subset=\"training\", seed=0, image_size=(224,224), batch_size=10)\n",
    "# Found 16116 files belonging to 11 classes.\n",
    "# Using 12893 files for training."
   ]
  },
  {
   "cell_type": "code",
   "execution_count": null,
   "metadata": {},
   "outputs": [],
   "source": [
    "# valid_batches = tf.keras.preprocessing.image_dataset_from_directory(\"data/valid\", validation_split=0.8, subset=\"validation\", seed=0, image_size=(224,224), batch_size=10)\n",
    "# Found 330 files belonging to 11 classes.\n",
    "# Using 66 files for validation.\n",
    "# ValueError: If `subset` is set, `validation_split` must be set, and inversely.\n",
    "\n",
    "# Found 330 files belonging to 11 classes.\n",
    "# Using 264 files for validation.\n",
    "# Question: validation_split=0.8 (inverse of validation_split=0.2 for subset=\"training\" ???)"
   ]
  },
  {
   "cell_type": "code",
   "execution_count": null,
   "metadata": {},
   "outputs": [],
   "source": [
    "# test_batches = tf.keras.preprocessing.image_dataset_from_directory(\"data/test\", seed=0, image_size=(224,224), batch_size=10)\n",
    "# Found 55 files belonging to 11 classes."
   ]
  },
  {
   "cell_type": "code",
   "execution_count": null,
   "metadata": {},
   "outputs": [],
   "source": [
    "# Documentation: https://keras.io/api/preprocessing/image/"
   ]
  },
  {
   "cell_type": "code",
   "execution_count": 46,
   "metadata": {
    "execution": {
     "iopub.execute_input": "2020-09-16T02:54:30.655567Z",
     "iopub.status.busy": "2020-09-16T02:54:30.655294Z",
     "iopub.status.idle": "2020-09-16T02:54:31.658433Z",
     "shell.execute_reply": "2020-09-16T02:54:31.657655Z",
     "shell.execute_reply.started": "2020-09-16T02:54:30.655539Z"
    }
   },
   "outputs": [
    {
     "name": "stdout",
     "output_type": "stream",
     "text": [
      "Found 16116 images belonging to 11 classes.\n"
     ]
    }
   ],
   "source": [
    "# Tutorial: https://deeplizard.com/learn/video/FNqp4ZY0wDY\n",
    "# resize any training data to have height of 224 and 224 (expected by MobileNet)\n",
    "train_batches = tf.keras.preprocessing.image.ImageDataGenerator(preprocessing_function=tf.keras.applications.mobilenet.preprocess_input).flow_from_directory(train_path, target_size=(224,224), batch_size=10)\n",
    "# Found 16116 images belonging to 11 classes."
   ]
  },
  {
   "cell_type": "code",
   "execution_count": 47,
   "metadata": {
    "execution": {
     "iopub.execute_input": "2020-09-16T02:54:32.398001Z",
     "iopub.status.busy": "2020-09-16T02:54:32.397654Z",
     "iopub.status.idle": "2020-09-16T02:54:32.429861Z",
     "shell.execute_reply": "2020-09-16T02:54:32.429087Z",
     "shell.execute_reply.started": "2020-09-16T02:54:32.397948Z"
    }
   },
   "outputs": [
    {
     "name": "stdout",
     "output_type": "stream",
     "text": [
      "Found 330 images belonging to 11 classes.\n"
     ]
    }
   ],
   "source": [
    "valid_batches = tf.keras.preprocessing.image.ImageDataGenerator(preprocessing_function=tf.keras.applications.mobilenet.preprocess_input).flow_from_directory(valid_path, target_size=(224,224), batch_size=10)\n",
    "# Found 330 images belonging to 11 classes."
   ]
  },
  {
   "cell_type": "code",
   "execution_count": 48,
   "metadata": {
    "execution": {
     "iopub.execute_input": "2020-09-16T02:54:33.755283Z",
     "iopub.status.busy": "2020-09-16T02:54:33.754998Z",
     "iopub.status.idle": "2020-09-16T02:54:33.770093Z",
     "shell.execute_reply": "2020-09-16T02:54:33.769005Z",
     "shell.execute_reply.started": "2020-09-16T02:54:33.755249Z"
    }
   },
   "outputs": [
    {
     "name": "stdout",
     "output_type": "stream",
     "text": [
      "Found 55 images belonging to 11 classes.\n"
     ]
    }
   ],
   "source": [
    "test_batches = tf.keras.preprocessing.image.ImageDataGenerator(preprocessing_function=tf.keras.applications.mobilenet.preprocess_input).flow_from_directory(test_path, target_size=(224,224), batch_size=10, shuffle=False)\n",
    "# Found 55 images belonging to 11 classes."
   ]
  },
  {
   "cell_type": "code",
   "execution_count": 13,
   "metadata": {
    "execution": {
     "iopub.execute_input": "2020-09-15T23:09:51.055260Z",
     "iopub.status.busy": "2020-09-15T23:09:51.054936Z",
     "iopub.status.idle": "2020-09-15T23:09:51.060703Z",
     "shell.execute_reply": "2020-09-15T23:09:51.059649Z",
     "shell.execute_reply.started": "2020-09-15T23:09:51.055219Z"
    }
   },
   "outputs": [
    {
     "data": {
      "text/plain": [
       "11"
      ]
     },
     "execution_count": 13,
     "metadata": {},
     "output_type": "execute_result"
    }
   ],
   "source": [
    "# train_batches.num_classes\n",
    "# # 11"
   ]
  },
  {
   "cell_type": "code",
   "execution_count": null,
   "metadata": {},
   "outputs": [],
   "source": [
    "# Review: \"assert\"\n",
    "# Definition: assert -- The assert keyword is used when debugging code. The assert keyword lets you test if a condition in your code returns True, if not, the program will raise an AssertionError. You can write a message to be written if the code returns False, check the example below.\n",
    "\n",
    "# Video: https://deeplizard.com/learn/video/LhEMXbjGV_4\n",
    "# # Concept:\n",
    "# - MobileNet\n",
    "# - transfer learning\n",
    "\n",
    "# Compare: tf.keras.preprocessing.image.ImageDataGenerator() VS. tf.keras.preprocessing.image_dataset_from_directory()"
   ]
  },
  {
   "cell_type": "code",
   "execution_count": null,
   "metadata": {},
   "outputs": [],
   "source": [
    "# Tutorial:\n",
    "# https://deeplizard.com/learn/video/FNqp4ZY0wDY\n",
    "\n",
    "# Quiz:\n",
    "# - After obtaining the data, the next step is to _______________.\n",
    "# -- True\n",
    "\n",
    "# - After obtaining the data, the next step is to _______________.\n",
    "# -- Organize the data\n",
    "\n",
    "# - Which function do we call to generate batches of training, validation, and test data?\n",
    "# -- ImageDataGenerator.flow_from_directory()\n",
    "\n",
    "# - Which parameter do we set in flow_from_directory() to resize images?\n",
    "# -- target_size\n",
    "\n",
    "# - What preprocessing_function do we use for the appropriate MobileNet preprocessing?\n",
    "# -- tf.keras.applications.mobilenet.preprocess_input"
   ]
  },
  {
   "cell_type": "code",
   "execution_count": 49,
   "metadata": {
    "execution": {
     "iopub.execute_input": "2020-09-16T02:54:37.214344Z",
     "iopub.status.busy": "2020-09-16T02:54:37.214089Z",
     "iopub.status.idle": "2020-09-16T02:54:37.218709Z",
     "shell.execute_reply": "2020-09-16T02:54:37.217987Z",
     "shell.execute_reply.started": "2020-09-16T02:54:37.214315Z"
    }
   },
   "outputs": [],
   "source": [
    "# Assert number of images to what we expect\n",
    "assert train_batches.n == 16116\n",
    "assert valid_batches.n == 330\n",
    "assert test_batches.n == 55\n",
    "assert train_batches.num_classes == valid_batches.num_classes == test_batches.num_classes == 11"
   ]
  },
  {
   "cell_type": "code",
   "execution_count": 8,
   "metadata": {
    "execution": {
     "iopub.execute_input": "2020-09-15T23:08:03.885072Z",
     "iopub.status.busy": "2020-09-15T23:08:03.884714Z",
     "iopub.status.idle": "2020-09-15T23:08:03.890643Z",
     "shell.execute_reply": "2020-09-15T23:08:03.889306Z",
     "shell.execute_reply.started": "2020-09-15T23:08:03.885039Z"
    }
   },
   "outputs": [
    {
     "data": {
      "text/plain": [
       "tensorflow.python.keras.preprocessing.image.DirectoryIterator"
      ]
     },
     "execution_count": 8,
     "metadata": {},
     "output_type": "execute_result"
    }
   ],
   "source": [
    "# type(train_batches)\n",
    "# tensorflow.python.keras.preprocessing.image.DirectoryIterator"
   ]
  },
  {
   "cell_type": "code",
   "execution_count": 7,
   "metadata": {
    "execution": {
     "iopub.execute_input": "2020-09-15T23:07:37.674146Z",
     "iopub.status.busy": "2020-09-15T23:07:37.673859Z",
     "iopub.status.idle": "2020-09-15T23:07:37.681259Z",
     "shell.execute_reply": "2020-09-15T23:07:37.680286Z",
     "shell.execute_reply.started": "2020-09-15T23:07:37.674118Z"
    }
   },
   "outputs": [
    {
     "data": {
      "text/plain": [
       "<tensorflow.python.keras.preprocessing.image.DirectoryIterator at 0x11d755640>"
      ]
     },
     "execution_count": 7,
     "metadata": {},
     "output_type": "execute_result"
    }
   ],
   "source": [
    "# train_batches\n",
    "# <tensorflow.python.keras.preprocessing.image.DirectoryIterator at 0x11d755640>"
   ]
  },
  {
   "cell_type": "code",
   "execution_count": null,
   "metadata": {},
   "outputs": [],
   "source": [
    "# Tutorial: https://deeplizard.com/learn/video/FNqp4ZY0wDY\n",
    "# Compare: MobileNet VS. vgg16\n",
    "# Video"
   ]
  },
  {
   "cell_type": "code",
   "execution_count": 87,
   "metadata": {
    "execution": {
     "iopub.execute_input": "2020-09-16T03:41:44.315860Z",
     "iopub.status.busy": "2020-09-16T03:41:44.315586Z",
     "iopub.status.idle": "2020-09-16T03:41:45.247004Z",
     "shell.execute_reply": "2020-09-16T03:41:45.246145Z",
     "shell.execute_reply.started": "2020-09-16T03:41:44.315831Z"
    }
   },
   "outputs": [],
   "source": [
    "mobile = tf.keras.applications.mobilenet.MobileNet()\n",
    "# Downloading data from https://storage.googleapis.com/tensorflow/keras-applications/mobilenet/mobilenet_1_0_224_tf.h5\n",
    "# 17227776/17225924 [==============================] - 3s 0us/step"
   ]
  },
  {
   "cell_type": "code",
   "execution_count": 88,
   "metadata": {
    "execution": {
     "iopub.execute_input": "2020-09-16T03:41:45.948015Z",
     "iopub.status.busy": "2020-09-16T03:41:45.947725Z",
     "iopub.status.idle": "2020-09-16T03:41:45.995419Z",
     "shell.execute_reply": "2020-09-16T03:41:45.994602Z",
     "shell.execute_reply.started": "2020-09-16T03:41:45.947976Z"
    }
   },
   "outputs": [
    {
     "name": "stdout",
     "output_type": "stream",
     "text": [
      "Model: \"mobilenet_1.00_224\"\n",
      "_________________________________________________________________\n",
      "Layer (type)                 Output Shape              Param #   \n",
      "=================================================================\n",
      "input_6 (InputLayer)         [(None, 224, 224, 3)]     0         \n",
      "_________________________________________________________________\n",
      "conv1_pad (ZeroPadding2D)    (None, 225, 225, 3)       0         \n",
      "_________________________________________________________________\n",
      "conv1 (Conv2D)               (None, 112, 112, 32)      864       \n",
      "_________________________________________________________________\n",
      "conv1_bn (BatchNormalization (None, 112, 112, 32)      128       \n",
      "_________________________________________________________________\n",
      "conv1_relu (ReLU)            (None, 112, 112, 32)      0         \n",
      "_________________________________________________________________\n",
      "conv_dw_1 (DepthwiseConv2D)  (None, 112, 112, 32)      288       \n",
      "_________________________________________________________________\n",
      "conv_dw_1_bn (BatchNormaliza (None, 112, 112, 32)      128       \n",
      "_________________________________________________________________\n",
      "conv_dw_1_relu (ReLU)        (None, 112, 112, 32)      0         \n",
      "_________________________________________________________________\n",
      "conv_pw_1 (Conv2D)           (None, 112, 112, 64)      2048      \n",
      "_________________________________________________________________\n",
      "conv_pw_1_bn (BatchNormaliza (None, 112, 112, 64)      256       \n",
      "_________________________________________________________________\n",
      "conv_pw_1_relu (ReLU)        (None, 112, 112, 64)      0         \n",
      "_________________________________________________________________\n",
      "conv_pad_2 (ZeroPadding2D)   (None, 113, 113, 64)      0         \n",
      "_________________________________________________________________\n",
      "conv_dw_2 (DepthwiseConv2D)  (None, 56, 56, 64)        576       \n",
      "_________________________________________________________________\n",
      "conv_dw_2_bn (BatchNormaliza (None, 56, 56, 64)        256       \n",
      "_________________________________________________________________\n",
      "conv_dw_2_relu (ReLU)        (None, 56, 56, 64)        0         \n",
      "_________________________________________________________________\n",
      "conv_pw_2 (Conv2D)           (None, 56, 56, 128)       8192      \n",
      "_________________________________________________________________\n",
      "conv_pw_2_bn (BatchNormaliza (None, 56, 56, 128)       512       \n",
      "_________________________________________________________________\n",
      "conv_pw_2_relu (ReLU)        (None, 56, 56, 128)       0         \n",
      "_________________________________________________________________\n",
      "conv_dw_3 (DepthwiseConv2D)  (None, 56, 56, 128)       1152      \n",
      "_________________________________________________________________\n",
      "conv_dw_3_bn (BatchNormaliza (None, 56, 56, 128)       512       \n",
      "_________________________________________________________________\n",
      "conv_dw_3_relu (ReLU)        (None, 56, 56, 128)       0         \n",
      "_________________________________________________________________\n",
      "conv_pw_3 (Conv2D)           (None, 56, 56, 128)       16384     \n",
      "_________________________________________________________________\n",
      "conv_pw_3_bn (BatchNormaliza (None, 56, 56, 128)       512       \n",
      "_________________________________________________________________\n",
      "conv_pw_3_relu (ReLU)        (None, 56, 56, 128)       0         \n",
      "_________________________________________________________________\n",
      "conv_pad_4 (ZeroPadding2D)   (None, 57, 57, 128)       0         \n",
      "_________________________________________________________________\n",
      "conv_dw_4 (DepthwiseConv2D)  (None, 28, 28, 128)       1152      \n",
      "_________________________________________________________________\n",
      "conv_dw_4_bn (BatchNormaliza (None, 28, 28, 128)       512       \n",
      "_________________________________________________________________\n",
      "conv_dw_4_relu (ReLU)        (None, 28, 28, 128)       0         \n",
      "_________________________________________________________________\n",
      "conv_pw_4 (Conv2D)           (None, 28, 28, 256)       32768     \n",
      "_________________________________________________________________\n",
      "conv_pw_4_bn (BatchNormaliza (None, 28, 28, 256)       1024      \n",
      "_________________________________________________________________\n",
      "conv_pw_4_relu (ReLU)        (None, 28, 28, 256)       0         \n",
      "_________________________________________________________________\n",
      "conv_dw_5 (DepthwiseConv2D)  (None, 28, 28, 256)       2304      \n",
      "_________________________________________________________________\n",
      "conv_dw_5_bn (BatchNormaliza (None, 28, 28, 256)       1024      \n",
      "_________________________________________________________________\n",
      "conv_dw_5_relu (ReLU)        (None, 28, 28, 256)       0         \n",
      "_________________________________________________________________\n",
      "conv_pw_5 (Conv2D)           (None, 28, 28, 256)       65536     \n",
      "_________________________________________________________________\n",
      "conv_pw_5_bn (BatchNormaliza (None, 28, 28, 256)       1024      \n",
      "_________________________________________________________________\n",
      "conv_pw_5_relu (ReLU)        (None, 28, 28, 256)       0         \n",
      "_________________________________________________________________\n",
      "conv_pad_6 (ZeroPadding2D)   (None, 29, 29, 256)       0         \n",
      "_________________________________________________________________\n",
      "conv_dw_6 (DepthwiseConv2D)  (None, 14, 14, 256)       2304      \n",
      "_________________________________________________________________\n",
      "conv_dw_6_bn (BatchNormaliza (None, 14, 14, 256)       1024      \n",
      "_________________________________________________________________\n",
      "conv_dw_6_relu (ReLU)        (None, 14, 14, 256)       0         \n",
      "_________________________________________________________________\n",
      "conv_pw_6 (Conv2D)           (None, 14, 14, 512)       131072    \n",
      "_________________________________________________________________\n",
      "conv_pw_6_bn (BatchNormaliza (None, 14, 14, 512)       2048      \n",
      "_________________________________________________________________\n",
      "conv_pw_6_relu (ReLU)        (None, 14, 14, 512)       0         \n",
      "_________________________________________________________________\n",
      "conv_dw_7 (DepthwiseConv2D)  (None, 14, 14, 512)       4608      \n",
      "_________________________________________________________________\n",
      "conv_dw_7_bn (BatchNormaliza (None, 14, 14, 512)       2048      \n",
      "_________________________________________________________________\n",
      "conv_dw_7_relu (ReLU)        (None, 14, 14, 512)       0         \n",
      "_________________________________________________________________\n",
      "conv_pw_7 (Conv2D)           (None, 14, 14, 512)       262144    \n",
      "_________________________________________________________________\n",
      "conv_pw_7_bn (BatchNormaliza (None, 14, 14, 512)       2048      \n",
      "_________________________________________________________________\n",
      "conv_pw_7_relu (ReLU)        (None, 14, 14, 512)       0         \n",
      "_________________________________________________________________\n",
      "conv_dw_8 (DepthwiseConv2D)  (None, 14, 14, 512)       4608      \n",
      "_________________________________________________________________\n",
      "conv_dw_8_bn (BatchNormaliza (None, 14, 14, 512)       2048      \n",
      "_________________________________________________________________\n",
      "conv_dw_8_relu (ReLU)        (None, 14, 14, 512)       0         \n",
      "_________________________________________________________________\n",
      "conv_pw_8 (Conv2D)           (None, 14, 14, 512)       262144    \n",
      "_________________________________________________________________\n",
      "conv_pw_8_bn (BatchNormaliza (None, 14, 14, 512)       2048      \n",
      "_________________________________________________________________\n",
      "conv_pw_8_relu (ReLU)        (None, 14, 14, 512)       0         \n",
      "_________________________________________________________________\n",
      "conv_dw_9 (DepthwiseConv2D)  (None, 14, 14, 512)       4608      \n",
      "_________________________________________________________________\n",
      "conv_dw_9_bn (BatchNormaliza (None, 14, 14, 512)       2048      \n",
      "_________________________________________________________________\n",
      "conv_dw_9_relu (ReLU)        (None, 14, 14, 512)       0         \n",
      "_________________________________________________________________\n",
      "conv_pw_9 (Conv2D)           (None, 14, 14, 512)       262144    \n",
      "_________________________________________________________________\n",
      "conv_pw_9_bn (BatchNormaliza (None, 14, 14, 512)       2048      \n",
      "_________________________________________________________________\n",
      "conv_pw_9_relu (ReLU)        (None, 14, 14, 512)       0         \n",
      "_________________________________________________________________\n",
      "conv_dw_10 (DepthwiseConv2D) (None, 14, 14, 512)       4608      \n",
      "_________________________________________________________________\n",
      "conv_dw_10_bn (BatchNormaliz (None, 14, 14, 512)       2048      \n",
      "_________________________________________________________________\n",
      "conv_dw_10_relu (ReLU)       (None, 14, 14, 512)       0         \n",
      "_________________________________________________________________\n",
      "conv_pw_10 (Conv2D)          (None, 14, 14, 512)       262144    \n",
      "_________________________________________________________________\n",
      "conv_pw_10_bn (BatchNormaliz (None, 14, 14, 512)       2048      \n",
      "_________________________________________________________________\n",
      "conv_pw_10_relu (ReLU)       (None, 14, 14, 512)       0         \n",
      "_________________________________________________________________\n",
      "conv_dw_11 (DepthwiseConv2D) (None, 14, 14, 512)       4608      \n",
      "_________________________________________________________________\n",
      "conv_dw_11_bn (BatchNormaliz (None, 14, 14, 512)       2048      \n",
      "_________________________________________________________________\n",
      "conv_dw_11_relu (ReLU)       (None, 14, 14, 512)       0         \n",
      "_________________________________________________________________\n",
      "conv_pw_11 (Conv2D)          (None, 14, 14, 512)       262144    \n",
      "_________________________________________________________________\n",
      "conv_pw_11_bn (BatchNormaliz (None, 14, 14, 512)       2048      \n",
      "_________________________________________________________________\n",
      "conv_pw_11_relu (ReLU)       (None, 14, 14, 512)       0         \n",
      "_________________________________________________________________\n",
      "conv_pad_12 (ZeroPadding2D)  (None, 15, 15, 512)       0         \n",
      "_________________________________________________________________\n",
      "conv_dw_12 (DepthwiseConv2D) (None, 7, 7, 512)         4608      \n",
      "_________________________________________________________________\n",
      "conv_dw_12_bn (BatchNormaliz (None, 7, 7, 512)         2048      \n",
      "_________________________________________________________________\n",
      "conv_dw_12_relu (ReLU)       (None, 7, 7, 512)         0         \n",
      "_________________________________________________________________\n",
      "conv_pw_12 (Conv2D)          (None, 7, 7, 1024)        524288    \n",
      "_________________________________________________________________\n",
      "conv_pw_12_bn (BatchNormaliz (None, 7, 7, 1024)        4096      \n",
      "_________________________________________________________________\n",
      "conv_pw_12_relu (ReLU)       (None, 7, 7, 1024)        0         \n",
      "_________________________________________________________________\n",
      "conv_dw_13 (DepthwiseConv2D) (None, 7, 7, 1024)        9216      \n",
      "_________________________________________________________________\n",
      "conv_dw_13_bn (BatchNormaliz (None, 7, 7, 1024)        4096      \n",
      "_________________________________________________________________\n",
      "conv_dw_13_relu (ReLU)       (None, 7, 7, 1024)        0         \n",
      "_________________________________________________________________\n",
      "conv_pw_13 (Conv2D)          (None, 7, 7, 1024)        1048576   \n",
      "_________________________________________________________________\n",
      "conv_pw_13_bn (BatchNormaliz (None, 7, 7, 1024)        4096      \n",
      "_________________________________________________________________\n",
      "conv_pw_13_relu (ReLU)       (None, 7, 7, 1024)        0         \n",
      "_________________________________________________________________\n",
      "global_average_pooling2d_5 ( (None, 1024)              0         \n",
      "_________________________________________________________________\n",
      "reshape_1 (Reshape)          (None, 1, 1, 1024)        0         \n",
      "_________________________________________________________________\n",
      "dropout (Dropout)            (None, 1, 1, 1024)        0         \n",
      "_________________________________________________________________\n",
      "conv_preds (Conv2D)          (None, 1, 1, 1000)        1025000   \n",
      "_________________________________________________________________\n",
      "reshape_2 (Reshape)          (None, 1000)              0         \n",
      "_________________________________________________________________\n",
      "predictions (Activation)     (None, 1000)              0         \n",
      "=================================================================\n",
      "Total params: 4,253,864\n",
      "Trainable params: 4,231,976\n",
      "Non-trainable params: 21,888\n",
      "_________________________________________________________________\n"
     ]
    }
   ],
   "source": [
    "mobile.summary()"
   ]
  },
  {
   "cell_type": "code",
   "execution_count": 89,
   "metadata": {
    "execution": {
     "iopub.execute_input": "2020-09-16T03:42:02.971916Z",
     "iopub.status.busy": "2020-09-16T03:42:02.971652Z",
     "iopub.status.idle": "2020-09-16T03:42:03.002772Z",
     "shell.execute_reply": "2020-09-16T03:42:03.001851Z",
     "shell.execute_reply.started": "2020-09-16T03:42:02.971883Z"
    }
   },
   "outputs": [],
   "source": [
    "# Store 6th to last layer as x (cats and dogs image classificaiton model skipped until 23rd layer)\n",
    "# Build new model using MobileNet up to the 6th to last layer\n",
    "# Last 5 layers are left OUT of the original MobileNet\n",
    "\n",
    "# Ouput layer (predictions) contains 11 (10 digits from 0 to 9 plus \"unknown\") output nodes correspond to each of digit sign language classes\n",
    "# Previous: predictions = Dense(2, activation='softmax')(x)\n",
    "\n",
    "\n",
    "x = mobile.layers[-6].output\n",
    "predictions = Dense(11, activation='softmax')(x)\n",
    "model = Model(mobile.input, predictions)\n",
    "\n",
    "# model = Model(input=mobile.input, predictions)\n",
    "# SyntaxError: positional argument follows keyword argument\n",
    "# model = Model(inputs=mobile.input, output=predictions)\n",
    "# TypeError: ('Keyword argument not understood:', 'inputs')\n",
    "\n",
    "# Debug: model = Model(mobile.input, predictions)"
   ]
  },
  {
   "cell_type": "code",
   "execution_count": 90,
   "metadata": {
    "execution": {
     "iopub.execute_input": "2020-09-16T03:42:06.051701Z",
     "iopub.status.busy": "2020-09-16T03:42:06.051446Z",
     "iopub.status.idle": "2020-09-16T03:42:06.102139Z",
     "shell.execute_reply": "2020-09-16T03:42:06.095818Z",
     "shell.execute_reply.started": "2020-09-16T03:42:06.051673Z"
    }
   },
   "outputs": [
    {
     "name": "stdout",
     "output_type": "stream",
     "text": [
      "Model: \"functional_9\"\n",
      "_________________________________________________________________\n",
      "Layer (type)                 Output Shape              Param #   \n",
      "=================================================================\n",
      "input_6 (InputLayer)         [(None, 224, 224, 3)]     0         \n",
      "_________________________________________________________________\n",
      "conv1_pad (ZeroPadding2D)    (None, 225, 225, 3)       0         \n",
      "_________________________________________________________________\n",
      "conv1 (Conv2D)               (None, 112, 112, 32)      864       \n",
      "_________________________________________________________________\n",
      "conv1_bn (BatchNormalization (None, 112, 112, 32)      128       \n",
      "_________________________________________________________________\n",
      "conv1_relu (ReLU)            (None, 112, 112, 32)      0         \n",
      "_________________________________________________________________\n",
      "conv_dw_1 (DepthwiseConv2D)  (None, 112, 112, 32)      288       \n",
      "_________________________________________________________________\n",
      "conv_dw_1_bn (BatchNormaliza (None, 112, 112, 32)      128       \n",
      "_________________________________________________________________\n",
      "conv_dw_1_relu (ReLU)        (None, 112, 112, 32)      0         \n",
      "_________________________________________________________________\n",
      "conv_pw_1 (Conv2D)           (None, 112, 112, 64)      2048      \n",
      "_________________________________________________________________\n",
      "conv_pw_1_bn (BatchNormaliza (None, 112, 112, 64)      256       \n",
      "_________________________________________________________________\n",
      "conv_pw_1_relu (ReLU)        (None, 112, 112, 64)      0         \n",
      "_________________________________________________________________\n",
      "conv_pad_2 (ZeroPadding2D)   (None, 113, 113, 64)      0         \n",
      "_________________________________________________________________\n",
      "conv_dw_2 (DepthwiseConv2D)  (None, 56, 56, 64)        576       \n",
      "_________________________________________________________________\n",
      "conv_dw_2_bn (BatchNormaliza (None, 56, 56, 64)        256       \n",
      "_________________________________________________________________\n",
      "conv_dw_2_relu (ReLU)        (None, 56, 56, 64)        0         \n",
      "_________________________________________________________________\n",
      "conv_pw_2 (Conv2D)           (None, 56, 56, 128)       8192      \n",
      "_________________________________________________________________\n",
      "conv_pw_2_bn (BatchNormaliza (None, 56, 56, 128)       512       \n",
      "_________________________________________________________________\n",
      "conv_pw_2_relu (ReLU)        (None, 56, 56, 128)       0         \n",
      "_________________________________________________________________\n",
      "conv_dw_3 (DepthwiseConv2D)  (None, 56, 56, 128)       1152      \n",
      "_________________________________________________________________\n",
      "conv_dw_3_bn (BatchNormaliza (None, 56, 56, 128)       512       \n",
      "_________________________________________________________________\n",
      "conv_dw_3_relu (ReLU)        (None, 56, 56, 128)       0         \n",
      "_________________________________________________________________\n",
      "conv_pw_3 (Conv2D)           (None, 56, 56, 128)       16384     \n",
      "_________________________________________________________________\n",
      "conv_pw_3_bn (BatchNormaliza (None, 56, 56, 128)       512       \n",
      "_________________________________________________________________\n",
      "conv_pw_3_relu (ReLU)        (None, 56, 56, 128)       0         \n",
      "_________________________________________________________________\n",
      "conv_pad_4 (ZeroPadding2D)   (None, 57, 57, 128)       0         \n",
      "_________________________________________________________________\n",
      "conv_dw_4 (DepthwiseConv2D)  (None, 28, 28, 128)       1152      \n",
      "_________________________________________________________________\n",
      "conv_dw_4_bn (BatchNormaliza (None, 28, 28, 128)       512       \n",
      "_________________________________________________________________\n",
      "conv_dw_4_relu (ReLU)        (None, 28, 28, 128)       0         \n",
      "_________________________________________________________________\n",
      "conv_pw_4 (Conv2D)           (None, 28, 28, 256)       32768     \n",
      "_________________________________________________________________\n",
      "conv_pw_4_bn (BatchNormaliza (None, 28, 28, 256)       1024      \n",
      "_________________________________________________________________\n",
      "conv_pw_4_relu (ReLU)        (None, 28, 28, 256)       0         \n",
      "_________________________________________________________________\n",
      "conv_dw_5 (DepthwiseConv2D)  (None, 28, 28, 256)       2304      \n",
      "_________________________________________________________________\n",
      "conv_dw_5_bn (BatchNormaliza (None, 28, 28, 256)       1024      \n",
      "_________________________________________________________________\n",
      "conv_dw_5_relu (ReLU)        (None, 28, 28, 256)       0         \n",
      "_________________________________________________________________\n",
      "conv_pw_5 (Conv2D)           (None, 28, 28, 256)       65536     \n",
      "_________________________________________________________________\n",
      "conv_pw_5_bn (BatchNormaliza (None, 28, 28, 256)       1024      \n",
      "_________________________________________________________________\n",
      "conv_pw_5_relu (ReLU)        (None, 28, 28, 256)       0         \n",
      "_________________________________________________________________\n",
      "conv_pad_6 (ZeroPadding2D)   (None, 29, 29, 256)       0         \n",
      "_________________________________________________________________\n",
      "conv_dw_6 (DepthwiseConv2D)  (None, 14, 14, 256)       2304      \n",
      "_________________________________________________________________\n",
      "conv_dw_6_bn (BatchNormaliza (None, 14, 14, 256)       1024      \n",
      "_________________________________________________________________\n",
      "conv_dw_6_relu (ReLU)        (None, 14, 14, 256)       0         \n",
      "_________________________________________________________________\n",
      "conv_pw_6 (Conv2D)           (None, 14, 14, 512)       131072    \n",
      "_________________________________________________________________\n",
      "conv_pw_6_bn (BatchNormaliza (None, 14, 14, 512)       2048      \n",
      "_________________________________________________________________\n",
      "conv_pw_6_relu (ReLU)        (None, 14, 14, 512)       0         \n",
      "_________________________________________________________________\n",
      "conv_dw_7 (DepthwiseConv2D)  (None, 14, 14, 512)       4608      \n",
      "_________________________________________________________________\n",
      "conv_dw_7_bn (BatchNormaliza (None, 14, 14, 512)       2048      \n",
      "_________________________________________________________________\n",
      "conv_dw_7_relu (ReLU)        (None, 14, 14, 512)       0         \n",
      "_________________________________________________________________\n",
      "conv_pw_7 (Conv2D)           (None, 14, 14, 512)       262144    \n",
      "_________________________________________________________________\n",
      "conv_pw_7_bn (BatchNormaliza (None, 14, 14, 512)       2048      \n",
      "_________________________________________________________________\n",
      "conv_pw_7_relu (ReLU)        (None, 14, 14, 512)       0         \n",
      "_________________________________________________________________\n",
      "conv_dw_8 (DepthwiseConv2D)  (None, 14, 14, 512)       4608      \n",
      "_________________________________________________________________\n",
      "conv_dw_8_bn (BatchNormaliza (None, 14, 14, 512)       2048      \n",
      "_________________________________________________________________\n",
      "conv_dw_8_relu (ReLU)        (None, 14, 14, 512)       0         \n",
      "_________________________________________________________________\n",
      "conv_pw_8 (Conv2D)           (None, 14, 14, 512)       262144    \n",
      "_________________________________________________________________\n",
      "conv_pw_8_bn (BatchNormaliza (None, 14, 14, 512)       2048      \n",
      "_________________________________________________________________\n",
      "conv_pw_8_relu (ReLU)        (None, 14, 14, 512)       0         \n",
      "_________________________________________________________________\n",
      "conv_dw_9 (DepthwiseConv2D)  (None, 14, 14, 512)       4608      \n",
      "_________________________________________________________________\n",
      "conv_dw_9_bn (BatchNormaliza (None, 14, 14, 512)       2048      \n",
      "_________________________________________________________________\n",
      "conv_dw_9_relu (ReLU)        (None, 14, 14, 512)       0         \n",
      "_________________________________________________________________\n",
      "conv_pw_9 (Conv2D)           (None, 14, 14, 512)       262144    \n",
      "_________________________________________________________________\n",
      "conv_pw_9_bn (BatchNormaliza (None, 14, 14, 512)       2048      \n",
      "_________________________________________________________________\n",
      "conv_pw_9_relu (ReLU)        (None, 14, 14, 512)       0         \n",
      "_________________________________________________________________\n",
      "conv_dw_10 (DepthwiseConv2D) (None, 14, 14, 512)       4608      \n",
      "_________________________________________________________________\n",
      "conv_dw_10_bn (BatchNormaliz (None, 14, 14, 512)       2048      \n",
      "_________________________________________________________________\n",
      "conv_dw_10_relu (ReLU)       (None, 14, 14, 512)       0         \n",
      "_________________________________________________________________\n",
      "conv_pw_10 (Conv2D)          (None, 14, 14, 512)       262144    \n",
      "_________________________________________________________________\n",
      "conv_pw_10_bn (BatchNormaliz (None, 14, 14, 512)       2048      \n",
      "_________________________________________________________________\n",
      "conv_pw_10_relu (ReLU)       (None, 14, 14, 512)       0         \n",
      "_________________________________________________________________\n",
      "conv_dw_11 (DepthwiseConv2D) (None, 14, 14, 512)       4608      \n",
      "_________________________________________________________________\n",
      "conv_dw_11_bn (BatchNormaliz (None, 14, 14, 512)       2048      \n",
      "_________________________________________________________________\n",
      "conv_dw_11_relu (ReLU)       (None, 14, 14, 512)       0         \n",
      "_________________________________________________________________\n",
      "conv_pw_11 (Conv2D)          (None, 14, 14, 512)       262144    \n",
      "_________________________________________________________________\n",
      "conv_pw_11_bn (BatchNormaliz (None, 14, 14, 512)       2048      \n",
      "_________________________________________________________________\n",
      "conv_pw_11_relu (ReLU)       (None, 14, 14, 512)       0         \n",
      "_________________________________________________________________\n",
      "conv_pad_12 (ZeroPadding2D)  (None, 15, 15, 512)       0         \n",
      "_________________________________________________________________\n",
      "conv_dw_12 (DepthwiseConv2D) (None, 7, 7, 512)         4608      \n",
      "_________________________________________________________________\n",
      "conv_dw_12_bn (BatchNormaliz (None, 7, 7, 512)         2048      \n",
      "_________________________________________________________________\n",
      "conv_dw_12_relu (ReLU)       (None, 7, 7, 512)         0         \n",
      "_________________________________________________________________\n",
      "conv_pw_12 (Conv2D)          (None, 7, 7, 1024)        524288    \n",
      "_________________________________________________________________\n",
      "conv_pw_12_bn (BatchNormaliz (None, 7, 7, 1024)        4096      \n",
      "_________________________________________________________________\n",
      "conv_pw_12_relu (ReLU)       (None, 7, 7, 1024)        0         \n",
      "_________________________________________________________________\n",
      "conv_dw_13 (DepthwiseConv2D) (None, 7, 7, 1024)        9216      \n",
      "_________________________________________________________________\n",
      "conv_dw_13_bn (BatchNormaliz (None, 7, 7, 1024)        4096      \n",
      "_________________________________________________________________\n",
      "conv_dw_13_relu (ReLU)       (None, 7, 7, 1024)        0         \n",
      "_________________________________________________________________\n",
      "conv_pw_13 (Conv2D)          (None, 7, 7, 1024)        1048576   \n",
      "_________________________________________________________________\n",
      "conv_pw_13_bn (BatchNormaliz (None, 7, 7, 1024)        4096      \n",
      "_________________________________________________________________\n",
      "conv_pw_13_relu (ReLU)       (None, 7, 7, 1024)        0         \n",
      "_________________________________________________________________\n",
      "global_average_pooling2d_5 ( (None, 1024)              0         \n",
      "_________________________________________________________________\n",
      "dense_6 (Dense)              (None, 11)                11275     \n",
      "=================================================================\n",
      "Total params: 3,240,139\n",
      "Trainable params: 3,218,251\n",
      "Non-trainable params: 21,888\n",
      "_________________________________________________________________\n"
     ]
    }
   ],
   "source": [
    "# Up to global_average_pooling2d_2 layer\n",
    "model.summary()"
   ]
  },
  {
   "cell_type": "code",
   "execution_count": null,
   "metadata": {},
   "outputs": [],
   "source": [
    "# main change is how many layers to train on new dataset\n",
    "# keep most of MobileNet architecture  and ImageNet frozen layers"
   ]
  },
  {
   "cell_type": "code",
   "execution_count": null,
   "metadata": {},
   "outputs": [],
   "source": [
    "## Tutorial: https://deeplizard.com/learn/video/4Tcqw5oIfIg\n",
    "# Original MobileNet architecture has 88 layers\n",
    "# use softmax activation function\n",
    "# Model constructor\n",
    "# instance of Model class\n",
    "# 2 output layers"
   ]
  },
  {
   "cell_type": "code",
   "execution_count": 91,
   "metadata": {
    "execution": {
     "iopub.execute_input": "2020-09-16T03:42:11.183620Z",
     "iopub.status.busy": "2020-09-16T03:42:11.183275Z",
     "iopub.status.idle": "2020-09-16T03:42:11.190104Z",
     "shell.execute_reply": "2020-09-16T03:42:11.189261Z",
     "shell.execute_reply.started": "2020-09-16T03:42:11.183584Z"
    }
   },
   "outputs": [],
   "source": [
    "# Use up to the 23rd layers and below for new mdoel (sign language digits)\n",
    "for layer in model.layers[:-23]:\n",
    "    layer.trainable = False"
   ]
  },
  {
   "cell_type": "code",
   "execution_count": 62,
   "metadata": {
    "execution": {
     "iopub.execute_input": "2020-09-16T03:02:46.957527Z",
     "iopub.status.busy": "2020-09-16T03:02:46.957143Z",
     "iopub.status.idle": "2020-09-16T03:02:46.965425Z",
     "shell.execute_reply": "2020-09-16T03:02:46.963952Z",
     "shell.execute_reply.started": "2020-09-16T03:02:46.957487Z"
    }
   },
   "outputs": [],
   "source": [
    "# freeze weights of all layers except last 5 layers in our NEW (cats and dogs image classification)\n",
    "# only last 5 layers of our model will be traveled\n",
    "# conv_pw_13 (Conv2D) layer and below\n",
    "\n",
    "# for layer in model.layers[:-5]:\n",
    "#     layer.trainable = False"
   ]
  },
  {
   "cell_type": "code",
   "execution_count": null,
   "metadata": {},
   "outputs": [],
   "source": [
    "# Error:\n",
    "# model = Model(inputs=mobile.input, outputs=predictions)\n"
   ]
  },
  {
   "cell_type": "code",
   "execution_count": null,
   "metadata": {},
   "outputs": [],
   "source": [
    "# Video: https://www.youtube.com/watch?v=FNqp4ZY0wDY&ab_channel=deeplizard\n",
    "# dog and cats image classification VS. sign language\n",
    "# 23rd to last layer; original ImageNet weights will stay in place\n",
    "# for laye rin model.layers[:-23]:\n",
    "#     layer.trainable=False"
   ]
  },
  {
   "cell_type": "markdown",
   "metadata": {},
   "source": [
    "### Train the model"
   ]
  },
  {
   "cell_type": "code",
   "execution_count": 70,
   "metadata": {
    "execution": {
     "iopub.execute_input": "2020-09-16T03:30:09.781727Z",
     "iopub.status.busy": "2020-09-16T03:30:09.781438Z",
     "iopub.status.idle": "2020-09-16T03:30:09.792432Z",
     "shell.execute_reply": "2020-09-16T03:30:09.791726Z",
     "shell.execute_reply.started": "2020-09-16T03:30:09.781683Z"
    }
   },
   "outputs": [
    {
     "data": {
      "text/plain": [
       "(None, 2)"
      ]
     },
     "execution_count": 70,
     "metadata": {},
     "output_type": "execute_result"
    }
   ],
   "source": [
    "# model.output_shape\n",
    "# (None, 2)"
   ]
  },
  {
   "cell_type": "code",
   "execution_count": 67,
   "metadata": {
    "execution": {
     "iopub.execute_input": "2020-09-16T03:28:14.925122Z",
     "iopub.status.busy": "2020-09-16T03:28:14.924858Z",
     "iopub.status.idle": "2020-09-16T03:28:14.941186Z",
     "shell.execute_reply": "2020-09-16T03:28:14.940186Z",
     "shell.execute_reply.started": "2020-09-16T03:28:14.925090Z"
    }
   },
   "outputs": [
    {
     "ename": "NameError",
     "evalue": "name 'y' is not defined",
     "output_type": "error",
     "traceback": [
      "\u001b[0;31m---------------------------------------------------------------------------\u001b[0m",
      "\u001b[0;31mNameError\u001b[0m                                 Traceback (most recent call last)",
      "\u001b[0;32m<ipython-input-67-e12a204e336a>\u001b[0m in \u001b[0;36m<module>\u001b[0;34m\u001b[0m\n\u001b[1;32m      1\u001b[0m \u001b[0;31m# Debug: (Attempt)\u001b[0m\u001b[0;34m\u001b[0m\u001b[0;34m\u001b[0m\u001b[0;34m\u001b[0m\u001b[0m\n\u001b[0;32m----> 2\u001b[0;31m \u001b[0mcost\u001b[0m \u001b[0;34m=\u001b[0m \u001b[0mtf\u001b[0m\u001b[0;34m.\u001b[0m\u001b[0mreduce_mean\u001b[0m\u001b[0;34m(\u001b[0m\u001b[0mtf\u001b[0m\u001b[0;34m.\u001b[0m\u001b[0mnn\u001b[0m\u001b[0;34m.\u001b[0m\u001b[0msoftmax_cross_entropy_with_logits\u001b[0m\u001b[0;34m(\u001b[0m\u001b[0mlogits\u001b[0m\u001b[0;34m=\u001b[0m\u001b[0mpredictions\u001b[0m\u001b[0;34m,\u001b[0m \u001b[0mlabels\u001b[0m\u001b[0;34m=\u001b[0m\u001b[0my\u001b[0m\u001b[0;34m)\u001b[0m\u001b[0;34m)\u001b[0m\u001b[0;34m\u001b[0m\u001b[0;34m\u001b[0m\u001b[0m\n\u001b[0m",
      "\u001b[0;31mNameError\u001b[0m: name 'y' is not defined"
     ]
    }
   ],
   "source": [
    "# Debug: (Attempt)\n",
    "# cost = tf.reduce_mean(tf.nn.softmax_cross_entropy_with_logits(logits=predictions, labels=y))\n",
    "# NameError: name 'y' is not defined\n",
    "# Status: Not Working"
   ]
  },
  {
   "cell_type": "code",
   "execution_count": 92,
   "metadata": {
    "execution": {
     "iopub.execute_input": "2020-09-16T03:42:17.811003Z",
     "iopub.status.busy": "2020-09-16T03:42:17.810718Z",
     "iopub.status.idle": "2020-09-16T03:42:17.829459Z",
     "shell.execute_reply": "2020-09-16T03:42:17.828379Z",
     "shell.execute_reply.started": "2020-09-16T03:42:17.810973Z"
    }
   },
   "outputs": [],
   "source": [
    "model.compile(Adam(lr=.0001), loss='categorical_crossentropy', metrics=['accuracy'])"
   ]
  },
  {
   "cell_type": "code",
   "execution_count": 93,
   "metadata": {
    "execution": {
     "iopub.execute_input": "2020-09-16T03:42:20.375469Z",
     "iopub.status.busy": "2020-09-16T03:42:20.375096Z",
     "iopub.status.idle": "2020-09-16T03:49:09.029033Z",
     "shell.execute_reply": "2020-09-16T03:49:09.028055Z",
     "shell.execute_reply.started": "2020-09-16T03:42:20.375422Z"
    }
   },
   "outputs": [
    {
     "name": "stdout",
     "output_type": "stream",
     "text": [
      "Epoch 1/60\n",
      "18/18 - 12s - loss: 2.3576 - accuracy: 0.2333 - val_loss: 2.5545 - val_accuracy: 0.3000\n",
      "Epoch 2/60\n",
      "18/18 - 11s - loss: 1.7628 - accuracy: 0.4556 - val_loss: 2.2662 - val_accuracy: 0.3333\n",
      "Epoch 3/60\n",
      "18/18 - 10s - loss: 1.3000 - accuracy: 0.6333 - val_loss: 2.1805 - val_accuracy: 0.4333\n",
      "Epoch 4/60\n",
      "18/18 - 6s - loss: 0.9227 - accuracy: 0.7500 - val_loss: 2.2748 - val_accuracy: 0.2333\n",
      "Epoch 5/60\n",
      "18/18 - 6s - loss: 0.8852 - accuracy: 0.7667 - val_loss: 1.0964 - val_accuracy: 0.5667\n",
      "Epoch 6/60\n",
      "18/18 - 6s - loss: 0.7340 - accuracy: 0.8111 - val_loss: 1.0250 - val_accuracy: 0.6000\n",
      "Epoch 7/60\n",
      "18/18 - 6s - loss: 0.6174 - accuracy: 0.8389 - val_loss: 1.0065 - val_accuracy: 0.6333\n",
      "Epoch 8/60\n",
      "18/18 - 7s - loss: 0.4685 - accuracy: 0.8722 - val_loss: 0.5929 - val_accuracy: 0.8333\n",
      "Epoch 9/60\n",
      "18/18 - 6s - loss: 0.4680 - accuracy: 0.8722 - val_loss: 0.5527 - val_accuracy: 0.8333\n",
      "Epoch 10/60\n",
      "18/18 - 6s - loss: 0.4569 - accuracy: 0.8722 - val_loss: 0.4638 - val_accuracy: 0.9000\n",
      "Epoch 11/60\n",
      "18/18 - 6s - loss: 0.4459 - accuracy: 0.9000 - val_loss: 0.5482 - val_accuracy: 0.7667\n",
      "Epoch 12/60\n",
      "18/18 - 6s - loss: 0.4070 - accuracy: 0.9056 - val_loss: 0.4835 - val_accuracy: 0.8333\n",
      "Epoch 13/60\n",
      "18/18 - 6s - loss: 0.3389 - accuracy: 0.9222 - val_loss: 0.3572 - val_accuracy: 0.9333\n",
      "Epoch 14/60\n",
      "18/18 - 6s - loss: 0.3714 - accuracy: 0.9167 - val_loss: 0.3594 - val_accuracy: 0.9333\n",
      "Epoch 15/60\n",
      "18/18 - 6s - loss: 0.2686 - accuracy: 0.9500 - val_loss: 0.1711 - val_accuracy: 0.9333\n",
      "Epoch 16/60\n",
      "18/18 - 6s - loss: 0.2952 - accuracy: 0.9167 - val_loss: 0.2216 - val_accuracy: 0.9000\n",
      "Epoch 17/60\n",
      "18/18 - 6s - loss: 0.3040 - accuracy: 0.9167 - val_loss: 0.4738 - val_accuracy: 0.8667\n",
      "Epoch 18/60\n",
      "18/18 - 6s - loss: 0.2892 - accuracy: 0.9333 - val_loss: 0.3283 - val_accuracy: 0.8667\n",
      "Epoch 19/60\n",
      "18/18 - 6s - loss: 0.2430 - accuracy: 0.9444 - val_loss: 0.2641 - val_accuracy: 0.9667\n",
      "Epoch 20/60\n",
      "18/18 - 6s - loss: 0.3236 - accuracy: 0.9056 - val_loss: 0.2699 - val_accuracy: 0.9333\n",
      "Epoch 21/60\n",
      "18/18 - 7s - loss: 0.2256 - accuracy: 0.9222 - val_loss: 0.2927 - val_accuracy: 0.8667\n",
      "Epoch 22/60\n",
      "18/18 - 6s - loss: 0.1932 - accuracy: 0.9500 - val_loss: 0.1780 - val_accuracy: 0.9333\n",
      "Epoch 23/60\n",
      "18/18 - 7s - loss: 0.1880 - accuracy: 0.9611 - val_loss: 0.5806 - val_accuracy: 0.8333\n",
      "Epoch 24/60\n",
      "18/18 - 6s - loss: 0.2812 - accuracy: 0.9000 - val_loss: 0.2400 - val_accuracy: 0.9333\n",
      "Epoch 25/60\n",
      "18/18 - 6s - loss: 0.1653 - accuracy: 0.9500 - val_loss: 0.2334 - val_accuracy: 0.8667\n",
      "Epoch 26/60\n",
      "18/18 - 5s - loss: 0.1948 - accuracy: 0.9556 - val_loss: 0.3922 - val_accuracy: 0.9000\n",
      "Epoch 27/60\n",
      "18/18 - 6s - loss: 0.1627 - accuracy: 0.9500 - val_loss: 0.2364 - val_accuracy: 0.9000\n",
      "Epoch 28/60\n",
      "18/18 - 6s - loss: 0.1320 - accuracy: 0.9778 - val_loss: 0.2479 - val_accuracy: 0.9000\n",
      "Epoch 29/60\n",
      "18/18 - 6s - loss: 0.2086 - accuracy: 0.9556 - val_loss: 0.1729 - val_accuracy: 0.9333\n",
      "Epoch 30/60\n",
      "18/18 - 5s - loss: 0.2084 - accuracy: 0.9500 - val_loss: 0.3989 - val_accuracy: 0.8667\n",
      "Epoch 31/60\n",
      "18/18 - 5s - loss: 0.1109 - accuracy: 0.9944 - val_loss: 0.1079 - val_accuracy: 1.0000\n",
      "Epoch 32/60\n",
      "18/18 - 6s - loss: 0.1392 - accuracy: 0.9500 - val_loss: 0.1346 - val_accuracy: 0.9667\n",
      "Epoch 33/60\n",
      "18/18 - 6s - loss: 0.2101 - accuracy: 0.9389 - val_loss: 0.2670 - val_accuracy: 0.9333\n",
      "Epoch 34/60\n",
      "18/18 - 8s - loss: 0.1773 - accuracy: 0.9611 - val_loss: 0.2636 - val_accuracy: 0.9000\n",
      "Epoch 35/60\n",
      "18/18 - 10s - loss: 0.1143 - accuracy: 0.9944 - val_loss: 0.1693 - val_accuracy: 0.9667\n",
      "Epoch 36/60\n",
      "18/18 - 9s - loss: 0.0824 - accuracy: 0.9833 - val_loss: 0.0890 - val_accuracy: 0.9667\n",
      "Epoch 37/60\n",
      "18/18 - 7s - loss: 0.1603 - accuracy: 0.9722 - val_loss: 0.1380 - val_accuracy: 1.0000\n",
      "Epoch 38/60\n",
      "18/18 - 6s - loss: 0.1595 - accuracy: 0.9556 - val_loss: 0.0447 - val_accuracy: 1.0000\n",
      "Epoch 39/60\n",
      "18/18 - 6s - loss: 0.1989 - accuracy: 0.9278 - val_loss: 0.2525 - val_accuracy: 0.9333\n",
      "Epoch 40/60\n",
      "18/18 - 6s - loss: 0.1579 - accuracy: 0.9667 - val_loss: 0.1638 - val_accuracy: 0.9667\n",
      "Epoch 41/60\n",
      "18/18 - 6s - loss: 0.1970 - accuracy: 0.9556 - val_loss: 0.0271 - val_accuracy: 1.0000\n",
      "Epoch 42/60\n",
      "18/18 - 6s - loss: 0.0808 - accuracy: 0.9833 - val_loss: 0.1410 - val_accuracy: 0.9667\n",
      "Epoch 43/60\n",
      "18/18 - 6s - loss: 0.0865 - accuracy: 0.9889 - val_loss: 0.1369 - val_accuracy: 0.9333\n",
      "Epoch 44/60\n",
      "18/18 - 6s - loss: 0.1075 - accuracy: 0.9722 - val_loss: 0.0225 - val_accuracy: 1.0000\n",
      "Epoch 45/60\n",
      "18/18 - 6s - loss: 0.1285 - accuracy: 0.9611 - val_loss: 0.1794 - val_accuracy: 0.9667\n",
      "Epoch 46/60\n",
      "18/18 - 6s - loss: 0.1118 - accuracy: 0.9722 - val_loss: 0.0799 - val_accuracy: 0.9667\n",
      "Epoch 47/60\n",
      "18/18 - 6s - loss: 0.1139 - accuracy: 0.9722 - val_loss: 0.1842 - val_accuracy: 0.9333\n",
      "Epoch 48/60\n",
      "18/18 - 6s - loss: 0.1140 - accuracy: 0.9722 - val_loss: 0.0216 - val_accuracy: 1.0000\n",
      "Epoch 49/60\n",
      "18/18 - 6s - loss: 0.1459 - accuracy: 0.9611 - val_loss: 0.1022 - val_accuracy: 0.9667\n",
      "Epoch 50/60\n",
      "18/18 - 6s - loss: 0.0983 - accuracy: 0.9722 - val_loss: 0.0356 - val_accuracy: 1.0000\n",
      "Epoch 51/60\n",
      "18/18 - 6s - loss: 0.0516 - accuracy: 0.9944 - val_loss: 0.1270 - val_accuracy: 0.9667\n",
      "Epoch 52/60\n",
      "18/18 - 6s - loss: 0.1192 - accuracy: 0.9667 - val_loss: 0.0187 - val_accuracy: 1.0000\n",
      "Epoch 53/60\n",
      "18/18 - 6s - loss: 0.1196 - accuracy: 0.9556 - val_loss: 0.0409 - val_accuracy: 1.0000\n",
      "Epoch 54/60\n",
      "18/18 - 6s - loss: 0.1051 - accuracy: 0.9611 - val_loss: 0.0598 - val_accuracy: 0.9667\n",
      "Epoch 55/60\n",
      "18/18 - 6s - loss: 0.1156 - accuracy: 0.9722 - val_loss: 0.0947 - val_accuracy: 0.9667\n",
      "Epoch 56/60\n",
      "18/18 - 6s - loss: 0.1423 - accuracy: 0.9722 - val_loss: 0.0226 - val_accuracy: 1.0000\n",
      "Epoch 57/60\n",
      "18/18 - 6s - loss: 0.0764 - accuracy: 0.9833 - val_loss: 0.0208 - val_accuracy: 1.0000\n",
      "Epoch 58/60\n",
      "18/18 - 6s - loss: 0.1317 - accuracy: 0.9667 - val_loss: 0.0274 - val_accuracy: 1.0000\n",
      "Epoch 59/60\n",
      "18/18 - 6s - loss: 0.1330 - accuracy: 0.9722 - val_loss: 0.1161 - val_accuracy: 0.9333\n",
      "Epoch 60/60\n",
      "18/18 - 6s - loss: 0.0961 - accuracy: 0.9833 - val_loss: 0.0852 - val_accuracy: 0.9333\n"
     ]
    },
    {
     "data": {
      "text/plain": [
       "<tensorflow.python.keras.callbacks.History at 0x15716a940>"
      ]
     },
     "execution_count": 93,
     "metadata": {},
     "output_type": "execute_result"
    }
   ],
   "source": [
    "# epochs = 60 for sign language digits (epoch = 30 for cat and dog model)\n",
    "model.fit_generator(train_batches, steps_per_epoch=18, validation_data=valid_batches, validation_steps=3, epochs=60, verbose=2)\n",
    "\n",
    "# Error:\n",
    "# InvalidArgumentError:  logits and labels must be broadcastable: logits_size=[10,2] labels_size=[10,11]\n",
    "# \t [[node categorical_crossentropy/softmax_cross_entropy_with_logits (defined at <ipython-input-65-7a72a41b09c9>:2) ]] [Op:__inference_train_function_10533]\n",
    "\n",
    "# Function call stack:\n",
    "# train_function\n",
    "\n",
    "# Debug: https://github.com/tensorflow/models/issues/6036\n",
    "# Reason: resolved when numer of classes in train and test were different while using Image Generator\n",
    "# Computational Speed: 6m 48.65s"
   ]
  },
  {
   "cell_type": "code",
   "execution_count": null,
   "metadata": {},
   "outputs": [],
   "source": [
    "# Rerun model to save time; change from 60 epochs to 30 epochs (when accuracy stabilizes to close to 100%) \n",
    "model.fit_generator(train_batches, steps_per_epoch=18, validation_data=valid_batches, validation_steps=3, epochs=30, verbose=2)"
   ]
  },
  {
   "cell_type": "code",
   "execution_count": 94,
   "metadata": {
    "execution": {
     "iopub.execute_input": "2020-09-16T03:57:25.300916Z",
     "iopub.status.busy": "2020-09-16T03:57:25.300548Z",
     "iopub.status.idle": "2020-09-16T03:57:25.342625Z",
     "shell.execute_reply": "2020-09-16T03:57:25.341863Z",
     "shell.execute_reply.started": "2020-09-16T03:57:25.300864Z"
    }
   },
   "outputs": [
    {
     "name": "stdout",
     "output_type": "stream",
     "text": [
      "Model: \"functional_9\"\n",
      "_________________________________________________________________\n",
      "Layer (type)                 Output Shape              Param #   \n",
      "=================================================================\n",
      "input_6 (InputLayer)         [(None, 224, 224, 3)]     0         \n",
      "_________________________________________________________________\n",
      "conv1_pad (ZeroPadding2D)    (None, 225, 225, 3)       0         \n",
      "_________________________________________________________________\n",
      "conv1 (Conv2D)               (None, 112, 112, 32)      864       \n",
      "_________________________________________________________________\n",
      "conv1_bn (BatchNormalization (None, 112, 112, 32)      128       \n",
      "_________________________________________________________________\n",
      "conv1_relu (ReLU)            (None, 112, 112, 32)      0         \n",
      "_________________________________________________________________\n",
      "conv_dw_1 (DepthwiseConv2D)  (None, 112, 112, 32)      288       \n",
      "_________________________________________________________________\n",
      "conv_dw_1_bn (BatchNormaliza (None, 112, 112, 32)      128       \n",
      "_________________________________________________________________\n",
      "conv_dw_1_relu (ReLU)        (None, 112, 112, 32)      0         \n",
      "_________________________________________________________________\n",
      "conv_pw_1 (Conv2D)           (None, 112, 112, 64)      2048      \n",
      "_________________________________________________________________\n",
      "conv_pw_1_bn (BatchNormaliza (None, 112, 112, 64)      256       \n",
      "_________________________________________________________________\n",
      "conv_pw_1_relu (ReLU)        (None, 112, 112, 64)      0         \n",
      "_________________________________________________________________\n",
      "conv_pad_2 (ZeroPadding2D)   (None, 113, 113, 64)      0         \n",
      "_________________________________________________________________\n",
      "conv_dw_2 (DepthwiseConv2D)  (None, 56, 56, 64)        576       \n",
      "_________________________________________________________________\n",
      "conv_dw_2_bn (BatchNormaliza (None, 56, 56, 64)        256       \n",
      "_________________________________________________________________\n",
      "conv_dw_2_relu (ReLU)        (None, 56, 56, 64)        0         \n",
      "_________________________________________________________________\n",
      "conv_pw_2 (Conv2D)           (None, 56, 56, 128)       8192      \n",
      "_________________________________________________________________\n",
      "conv_pw_2_bn (BatchNormaliza (None, 56, 56, 128)       512       \n",
      "_________________________________________________________________\n",
      "conv_pw_2_relu (ReLU)        (None, 56, 56, 128)       0         \n",
      "_________________________________________________________________\n",
      "conv_dw_3 (DepthwiseConv2D)  (None, 56, 56, 128)       1152      \n",
      "_________________________________________________________________\n",
      "conv_dw_3_bn (BatchNormaliza (None, 56, 56, 128)       512       \n",
      "_________________________________________________________________\n",
      "conv_dw_3_relu (ReLU)        (None, 56, 56, 128)       0         \n",
      "_________________________________________________________________\n",
      "conv_pw_3 (Conv2D)           (None, 56, 56, 128)       16384     \n",
      "_________________________________________________________________\n",
      "conv_pw_3_bn (BatchNormaliza (None, 56, 56, 128)       512       \n",
      "_________________________________________________________________\n",
      "conv_pw_3_relu (ReLU)        (None, 56, 56, 128)       0         \n",
      "_________________________________________________________________\n",
      "conv_pad_4 (ZeroPadding2D)   (None, 57, 57, 128)       0         \n",
      "_________________________________________________________________\n",
      "conv_dw_4 (DepthwiseConv2D)  (None, 28, 28, 128)       1152      \n",
      "_________________________________________________________________\n",
      "conv_dw_4_bn (BatchNormaliza (None, 28, 28, 128)       512       \n",
      "_________________________________________________________________\n",
      "conv_dw_4_relu (ReLU)        (None, 28, 28, 128)       0         \n",
      "_________________________________________________________________\n",
      "conv_pw_4 (Conv2D)           (None, 28, 28, 256)       32768     \n",
      "_________________________________________________________________\n",
      "conv_pw_4_bn (BatchNormaliza (None, 28, 28, 256)       1024      \n",
      "_________________________________________________________________\n",
      "conv_pw_4_relu (ReLU)        (None, 28, 28, 256)       0         \n",
      "_________________________________________________________________\n",
      "conv_dw_5 (DepthwiseConv2D)  (None, 28, 28, 256)       2304      \n",
      "_________________________________________________________________\n",
      "conv_dw_5_bn (BatchNormaliza (None, 28, 28, 256)       1024      \n",
      "_________________________________________________________________\n",
      "conv_dw_5_relu (ReLU)        (None, 28, 28, 256)       0         \n",
      "_________________________________________________________________\n",
      "conv_pw_5 (Conv2D)           (None, 28, 28, 256)       65536     \n",
      "_________________________________________________________________\n",
      "conv_pw_5_bn (BatchNormaliza (None, 28, 28, 256)       1024      \n",
      "_________________________________________________________________\n",
      "conv_pw_5_relu (ReLU)        (None, 28, 28, 256)       0         \n",
      "_________________________________________________________________\n",
      "conv_pad_6 (ZeroPadding2D)   (None, 29, 29, 256)       0         \n",
      "_________________________________________________________________\n",
      "conv_dw_6 (DepthwiseConv2D)  (None, 14, 14, 256)       2304      \n",
      "_________________________________________________________________\n",
      "conv_dw_6_bn (BatchNormaliza (None, 14, 14, 256)       1024      \n",
      "_________________________________________________________________\n",
      "conv_dw_6_relu (ReLU)        (None, 14, 14, 256)       0         \n",
      "_________________________________________________________________\n",
      "conv_pw_6 (Conv2D)           (None, 14, 14, 512)       131072    \n",
      "_________________________________________________________________\n",
      "conv_pw_6_bn (BatchNormaliza (None, 14, 14, 512)       2048      \n",
      "_________________________________________________________________\n",
      "conv_pw_6_relu (ReLU)        (None, 14, 14, 512)       0         \n",
      "_________________________________________________________________\n",
      "conv_dw_7 (DepthwiseConv2D)  (None, 14, 14, 512)       4608      \n",
      "_________________________________________________________________\n",
      "conv_dw_7_bn (BatchNormaliza (None, 14, 14, 512)       2048      \n",
      "_________________________________________________________________\n",
      "conv_dw_7_relu (ReLU)        (None, 14, 14, 512)       0         \n",
      "_________________________________________________________________\n",
      "conv_pw_7 (Conv2D)           (None, 14, 14, 512)       262144    \n",
      "_________________________________________________________________\n",
      "conv_pw_7_bn (BatchNormaliza (None, 14, 14, 512)       2048      \n",
      "_________________________________________________________________\n",
      "conv_pw_7_relu (ReLU)        (None, 14, 14, 512)       0         \n",
      "_________________________________________________________________\n",
      "conv_dw_8 (DepthwiseConv2D)  (None, 14, 14, 512)       4608      \n",
      "_________________________________________________________________\n",
      "conv_dw_8_bn (BatchNormaliza (None, 14, 14, 512)       2048      \n",
      "_________________________________________________________________\n",
      "conv_dw_8_relu (ReLU)        (None, 14, 14, 512)       0         \n",
      "_________________________________________________________________\n",
      "conv_pw_8 (Conv2D)           (None, 14, 14, 512)       262144    \n",
      "_________________________________________________________________\n",
      "conv_pw_8_bn (BatchNormaliza (None, 14, 14, 512)       2048      \n",
      "_________________________________________________________________\n",
      "conv_pw_8_relu (ReLU)        (None, 14, 14, 512)       0         \n",
      "_________________________________________________________________\n",
      "conv_dw_9 (DepthwiseConv2D)  (None, 14, 14, 512)       4608      \n",
      "_________________________________________________________________\n",
      "conv_dw_9_bn (BatchNormaliza (None, 14, 14, 512)       2048      \n",
      "_________________________________________________________________\n",
      "conv_dw_9_relu (ReLU)        (None, 14, 14, 512)       0         \n",
      "_________________________________________________________________\n",
      "conv_pw_9 (Conv2D)           (None, 14, 14, 512)       262144    \n",
      "_________________________________________________________________\n",
      "conv_pw_9_bn (BatchNormaliza (None, 14, 14, 512)       2048      \n",
      "_________________________________________________________________\n",
      "conv_pw_9_relu (ReLU)        (None, 14, 14, 512)       0         \n",
      "_________________________________________________________________\n",
      "conv_dw_10 (DepthwiseConv2D) (None, 14, 14, 512)       4608      \n",
      "_________________________________________________________________\n",
      "conv_dw_10_bn (BatchNormaliz (None, 14, 14, 512)       2048      \n",
      "_________________________________________________________________\n",
      "conv_dw_10_relu (ReLU)       (None, 14, 14, 512)       0         \n",
      "_________________________________________________________________\n",
      "conv_pw_10 (Conv2D)          (None, 14, 14, 512)       262144    \n",
      "_________________________________________________________________\n",
      "conv_pw_10_bn (BatchNormaliz (None, 14, 14, 512)       2048      \n",
      "_________________________________________________________________\n",
      "conv_pw_10_relu (ReLU)       (None, 14, 14, 512)       0         \n",
      "_________________________________________________________________\n",
      "conv_dw_11 (DepthwiseConv2D) (None, 14, 14, 512)       4608      \n",
      "_________________________________________________________________\n",
      "conv_dw_11_bn (BatchNormaliz (None, 14, 14, 512)       2048      \n",
      "_________________________________________________________________\n",
      "conv_dw_11_relu (ReLU)       (None, 14, 14, 512)       0         \n",
      "_________________________________________________________________\n",
      "conv_pw_11 (Conv2D)          (None, 14, 14, 512)       262144    \n",
      "_________________________________________________________________\n",
      "conv_pw_11_bn (BatchNormaliz (None, 14, 14, 512)       2048      \n",
      "_________________________________________________________________\n",
      "conv_pw_11_relu (ReLU)       (None, 14, 14, 512)       0         \n",
      "_________________________________________________________________\n",
      "conv_pad_12 (ZeroPadding2D)  (None, 15, 15, 512)       0         \n",
      "_________________________________________________________________\n",
      "conv_dw_12 (DepthwiseConv2D) (None, 7, 7, 512)         4608      \n",
      "_________________________________________________________________\n",
      "conv_dw_12_bn (BatchNormaliz (None, 7, 7, 512)         2048      \n",
      "_________________________________________________________________\n",
      "conv_dw_12_relu (ReLU)       (None, 7, 7, 512)         0         \n",
      "_________________________________________________________________\n",
      "conv_pw_12 (Conv2D)          (None, 7, 7, 1024)        524288    \n",
      "_________________________________________________________________\n",
      "conv_pw_12_bn (BatchNormaliz (None, 7, 7, 1024)        4096      \n",
      "_________________________________________________________________\n",
      "conv_pw_12_relu (ReLU)       (None, 7, 7, 1024)        0         \n",
      "_________________________________________________________________\n",
      "conv_dw_13 (DepthwiseConv2D) (None, 7, 7, 1024)        9216      \n",
      "_________________________________________________________________\n",
      "conv_dw_13_bn (BatchNormaliz (None, 7, 7, 1024)        4096      \n",
      "_________________________________________________________________\n",
      "conv_dw_13_relu (ReLU)       (None, 7, 7, 1024)        0         \n",
      "_________________________________________________________________\n",
      "conv_pw_13 (Conv2D)          (None, 7, 7, 1024)        1048576   \n",
      "_________________________________________________________________\n",
      "conv_pw_13_bn (BatchNormaliz (None, 7, 7, 1024)        4096      \n",
      "_________________________________________________________________\n",
      "conv_pw_13_relu (ReLU)       (None, 7, 7, 1024)        0         \n",
      "_________________________________________________________________\n",
      "global_average_pooling2d_5 ( (None, 1024)              0         \n",
      "_________________________________________________________________\n",
      "dense_6 (Dense)              (None, 11)                11275     \n",
      "=================================================================\n",
      "Total params: 3,240,139\n",
      "Trainable params: 1,874,955\n",
      "Non-trainable params: 1,365,184\n",
      "_________________________________________________________________\n"
     ]
    }
   ],
   "source": [
    "model.summary"
   ]
  },
  {
   "cell_type": "code",
   "execution_count": null,
   "metadata": {},
   "outputs": [],
   "source": [
    "# serialize model to JSON\n",
    "model_json = model.to_json()\n",
    "with open(\"model.json\", \"w\") as json_file:\n",
    "json_file.write(model_json)\n",
    "# serialize weights to HDF5\n",
    "# weights define your model\n",
    "model.save_weights(\"model.h5\")\n",
    "print(\"Saved model to disk\")"
   ]
  },
  {
   "cell_type": "code",
   "execution_count": null,
   "metadata": {},
   "outputs": [],
   "source": []
  },
  {
   "cell_type": "code",
   "execution_count": null,
   "metadata": {},
   "outputs": [],
   "source": []
  },
  {
   "cell_type": "code",
   "execution_count": null,
   "metadata": {},
   "outputs": [],
   "source": []
  },
  {
   "cell_type": "code",
   "execution_count": null,
   "metadata": {},
   "outputs": [],
   "source": []
  },
  {
   "cell_type": "code",
   "execution_count": null,
   "metadata": {},
   "outputs": [],
   "source": []
  },
  {
   "cell_type": "code",
   "execution_count": 96,
   "metadata": {
    "execution": {
     "iopub.execute_input": "2020-09-16T03:58:34.911519Z",
     "iopub.status.busy": "2020-09-16T03:58:34.911234Z",
     "iopub.status.idle": "2020-09-16T03:58:35.052991Z",
     "shell.execute_reply": "2020-09-16T03:58:35.052012Z",
     "shell.execute_reply.started": "2020-09-16T03:58:34.911483Z"
    }
   },
   "outputs": [
    {
     "name": "stdout",
     "output_type": "stream",
     "text": [
      "/bin/bash: /usr/local/bin/pip: /usr/local/opt/python/bin/python3.7: bad interpreter: No such file or directory\n"
     ]
    }
   ],
   "source": [
    "# Documentation: https://www.tensorflow.org/tutorials/keras/save_and_load\n",
    "!pip install -q pyyaml h5py  # Required to save models in HDF5 format\n",
    "\n",
    "# Error: /bin/bash: /usr/local/bin/pip: /usr/local/opt/python/bin/python3.7: bad interpreter: No such file or directory"
   ]
  },
  {
   "cell_type": "code",
   "execution_count": 100,
   "metadata": {
    "execution": {
     "iopub.execute_input": "2020-09-16T03:59:32.994200Z",
     "iopub.status.busy": "2020-09-16T03:59:32.993930Z",
     "iopub.status.idle": "2020-09-16T03:59:33.131429Z",
     "shell.execute_reply": "2020-09-16T03:59:33.130368Z",
     "shell.execute_reply.started": "2020-09-16T03:59:32.994172Z"
    }
   },
   "outputs": [
    {
     "name": "stdout",
     "output_type": "stream",
     "text": [
      "/bin/bash: /tmpfs/src/tf_docs_env/bin/python: No such file or directory\n"
     ]
    }
   ],
   "source": [
    "# !/tmpfs/src/tf_docs_env/bin/python -m pip install --upgrade pi\n",
    "# Error: /bin/bash: /tmpfs/src/tf_docs_env/bin/python: No such file or directory"
   ]
  },
  {
   "cell_type": "code",
   "execution_count": 108,
   "metadata": {
    "execution": {
     "iopub.execute_input": "2020-09-16T04:00:51.020319Z",
     "iopub.status.busy": "2020-09-16T04:00:51.019978Z",
     "iopub.status.idle": "2020-09-16T04:00:51.150435Z",
     "shell.execute_reply": "2020-09-16T04:00:51.149333Z",
     "shell.execute_reply.started": "2020-09-16T04:00:51.020272Z"
    }
   },
   "outputs": [
    {
     "name": "stdout",
     "output_type": "stream",
     "text": [
      "/usr/local/bin/python\n"
     ]
    }
   ],
   "source": [
    "!which python\n",
    "# /usr/local/bin/python"
   ]
  },
  {
   "cell_type": "code",
   "execution_count": 1,
   "metadata": {
    "execution": {
     "iopub.execute_input": "2020-09-17T13:10:55.727601Z",
     "iopub.status.busy": "2020-09-17T13:10:55.727235Z",
     "iopub.status.idle": "2020-09-17T13:10:55.868689Z",
     "shell.execute_reply": "2020-09-17T13:10:55.867539Z",
     "shell.execute_reply.started": "2020-09-17T13:10:55.727548Z"
    }
   },
   "outputs": [
    {
     "name": "stdout",
     "output_type": "stream",
     "text": [
      "Python 2.7.16\n"
     ]
    }
   ],
   "source": [
    "!python --version\n",
    "# Python 2.7.16"
   ]
  },
  {
   "cell_type": "code",
   "execution_count": 111,
   "metadata": {
    "execution": {
     "iopub.execute_input": "2020-09-16T04:01:19.314758Z",
     "iopub.status.busy": "2020-09-16T04:01:19.314439Z",
     "iopub.status.idle": "2020-09-16T04:01:21.369558Z",
     "shell.execute_reply": "2020-09-16T04:01:21.368439Z",
     "shell.execute_reply.started": "2020-09-16T04:01:19.314715Z"
    }
   },
   "outputs": [
    {
     "name": "stdout",
     "output_type": "stream",
     "text": [
      "Requirement already satisfied: conda in /usr/local/lib/python3.8/site-packages (4.3.16)\n",
      "Requirement already satisfied: requests>=2.12.4 in /usr/local/lib/python3.8/site-packages (from conda) (2.24.0)\n",
      "Requirement already satisfied: ruamel.yaml>=0.11.14 in /usr/local/lib/python3.8/site-packages (from conda) (0.16.10)\n",
      "Requirement already satisfied: pycosat>=0.6.1 in /usr/local/lib/python3.8/site-packages (from conda) (0.6.3)\n",
      "Requirement already satisfied: chardet<4,>=3.0.2 in /usr/local/lib/python3.8/site-packages (from requests>=2.12.4->conda) (3.0.4)\n",
      "Requirement already satisfied: idna<3,>=2.5 in /usr/local/lib/python3.8/site-packages (from requests>=2.12.4->conda) (2.10)\n",
      "Requirement already satisfied: certifi>=2017.4.17 in /usr/local/lib/python3.8/site-packages (from requests>=2.12.4->conda) (2020.6.20)\n",
      "Requirement already satisfied: urllib3!=1.25.0,!=1.25.1,<1.26,>=1.21.1 in /usr/local/lib/python3.8/site-packages (from requests>=2.12.4->conda) (1.25.10)\n",
      "Requirement already satisfied: ruamel.yaml.clib>=0.1.2; platform_python_implementation == \"CPython\" and python_version < \"3.9\" in /usr/local/lib/python3.8/site-packages (from ruamel.yaml>=0.11.14->conda) (0.2.0)\n",
      "Note: you may need to restart the kernel to use updated packages.\n"
     ]
    }
   ],
   "source": [
    "conda env"
   ]
  },
  {
   "cell_type": "code",
   "execution_count": 116,
   "metadata": {
    "execution": {
     "iopub.execute_input": "2020-09-16T04:02:41.874082Z",
     "iopub.status.busy": "2020-09-16T04:02:41.873757Z",
     "iopub.status.idle": "2020-09-16T04:02:42.077899Z",
     "shell.execute_reply": "2020-09-16T04:02:42.076758Z",
     "shell.execute_reply.started": "2020-09-16T04:02:41.874040Z"
    }
   },
   "outputs": [
    {
     "name": "stdout",
     "output_type": "stream",
     "text": [
      "ERROR: The install method you used for conda--probably either `pip install conda`\n",
      "or `easy_install conda`--is not compatible with using conda as an application.\n",
      "If your intention is to install conda as a standalone application, currently\n",
      "supported install methods include the Anaconda installer and the miniconda\n",
      "installer.  You can download the miniconda installer from\n",
      "https://conda.io/miniconda.html.\n",
      "\n"
     ]
    }
   ],
   "source": [
    "!conda create -n py37 python=3.7 anaconda"
   ]
  },
  {
   "cell_type": "code",
   "execution_count": 112,
   "metadata": {
    "execution": {
     "iopub.execute_input": "2020-09-16T04:01:27.159475Z",
     "iopub.status.busy": "2020-09-16T04:01:27.159198Z",
     "iopub.status.idle": "2020-09-16T04:01:27.381544Z",
     "shell.execute_reply": "2020-09-16T04:01:27.380029Z",
     "shell.execute_reply.started": "2020-09-16T04:01:27.159443Z"
    }
   },
   "outputs": [
    {
     "name": "stdout",
     "output_type": "stream",
     "text": [
      "ERROR: The install method you used for conda--probably either `pip install conda`\n",
      "or `easy_install conda`--is not compatible with using conda as an application.\n",
      "If your intention is to install conda as a standalone application, currently\n",
      "supported install methods include the Anaconda installer and the miniconda\n",
      "installer.  You can download the miniconda installer from\n",
      "https://conda.io/miniconda.html.\n",
      "\n"
     ]
    }
   ],
   "source": [
    "!conda activate tensorflow\n",
    "\n",
    "\n",
    "# ERROR: The install method you used for conda--probably either `pip install conda`\n",
    "# or `easy_install conda`--is not compatible with using conda as an application.\n",
    "# If your intention is to install conda as a standalone application, currently\n",
    "# supported install methods include the Anaconda installer and the miniconda\n",
    "# installer.  You can download the miniconda installer from\n",
    "# https://conda.io/miniconda.html."
   ]
  },
  {
   "cell_type": "code",
   "execution_count": null,
   "metadata": {},
   "outputs": [],
   "source": [
    "# fine tuned MobileNet model ready\n",
    "# predicting new unseen images from our test set"
   ]
  },
  {
   "cell_type": "code",
   "execution_count": null,
   "metadata": {},
   "outputs": [],
   "source": [
    "# %%capture cap --no-stderr\n",
    "# print 'stuff'\n",
    "# with open('output.txt', 'w') as f:\n",
    "#     f.write(cap.stdout)"
   ]
  },
  {
   "cell_type": "code",
   "execution_count": null,
   "metadata": {},
   "outputs": [],
   "source": [
    "# Review:\n",
    "# - %%writefile\n",
    "# - %%capture -- https://www.scrygroup.com/tutorial/2019-03-09/capturing_jupyter_cell_output/"
   ]
  },
  {
   "cell_type": "code",
   "execution_count": 40,
   "metadata": {
    "execution": {
     "iopub.execute_input": "2020-09-16T00:00:23.664668Z",
     "iopub.status.busy": "2020-09-16T00:00:23.664383Z",
     "iopub.status.idle": "2020-09-16T00:00:23.681108Z",
     "shell.execute_reply": "2020-09-16T00:00:23.680347Z",
     "shell.execute_reply.started": "2020-09-16T00:00:23.664622Z"
    }
   },
   "outputs": [],
   "source": [
    "# %%capture cap_out --no-stderr\n",
    "# mobile.summary()"
   ]
  },
  {
   "cell_type": "code",
   "execution_count": 37,
   "metadata": {
    "execution": {
     "iopub.execute_input": "2020-09-15T23:58:24.070049Z",
     "iopub.status.busy": "2020-09-15T23:58:24.069719Z",
     "iopub.status.idle": "2020-09-15T23:58:24.104479Z",
     "shell.execute_reply": "2020-09-15T23:58:24.103270Z",
     "shell.execute_reply.started": "2020-09-15T23:58:24.070015Z"
    }
   },
   "outputs": [],
   "source": [
    "# with open('output.txt', 'w') as out:\n",
    "#    out.write(cap.stdout)"
   ]
  },
  {
   "cell_type": "code",
   "execution_count": 41,
   "metadata": {
    "execution": {
     "iopub.execute_input": "2020-09-16T00:00:28.432067Z",
     "iopub.status.busy": "2020-09-16T00:00:28.431785Z",
     "iopub.status.idle": "2020-09-16T00:00:28.437196Z",
     "shell.execute_reply": "2020-09-16T00:00:28.436238Z",
     "shell.execute_reply.started": "2020-09-16T00:00:28.432035Z"
    }
   },
   "outputs": [
    {
     "data": {
      "text/plain": [
       "<IPython.utils.capture.CapturedIO at 0x1501c2df0>"
      ]
     },
     "execution_count": 41,
     "metadata": {},
     "output_type": "execute_result"
    }
   ],
   "source": [
    "# cap_out"
   ]
  },
  {
   "cell_type": "code",
   "execution_count": 42,
   "metadata": {
    "execution": {
     "iopub.execute_input": "2020-09-16T00:00:54.554488Z",
     "iopub.status.busy": "2020-09-16T00:00:54.554163Z",
     "iopub.status.idle": "2020-09-16T00:00:54.558448Z",
     "shell.execute_reply": "2020-09-16T00:00:54.557571Z",
     "shell.execute_reply.started": "2020-09-16T00:00:54.554446Z"
    }
   },
   "outputs": [],
   "source": [
    "# new_var = cap_out.stdout"
   ]
  },
  {
   "cell_type": "code",
   "execution_count": null,
   "metadata": {},
   "outputs": [],
   "source": [
    "# new_var"
   ]
  },
  {
   "cell_type": "code",
   "execution_count": null,
   "metadata": {},
   "outputs": [],
   "source": []
  },
  {
   "cell_type": "code",
   "execution_count": null,
   "metadata": {},
   "outputs": [],
   "source": []
  },
  {
   "cell_type": "code",
   "execution_count": null,
   "metadata": {},
   "outputs": [],
   "source": []
  },
  {
   "cell_type": "code",
   "execution_count": null,
   "metadata": {},
   "outputs": [],
   "source": [
    "# File path of data and categories listed\n",
    "DATADIR = 'data/'\n",
    "CATEGORIES = [\"0\", \"1\", \"2\", \"3\", \"4\", \"5\", \"6\", \"7\", \"8\", \"9\", \"unknown\"]"
   ]
  },
  {
   "cell_type": "code",
   "execution_count": null,
   "metadata": {},
   "outputs": [],
   "source": [
    "# Display an example image of each of the categories in grayscale\n",
    "for category in CATEGORIES:\n",
    "    path = os.path.join(DATADIR,category)  # create path to categories\n",
    "    for img in os.listdir(path):\n",
    "      # iterate over each image\n",
    "      # convert to array\n",
    "      img_array = cv2.imread(os.path.join(path,img) ,cv2.IMREAD_GRAYSCALE)  \n",
    "      plt.imshow(img_array, cmap='gray')  # graph it\n",
    "      plt.show()  # display!\n",
    "\n",
    "      break  # we just want one for now so break\n",
    "    break  #...and one more!"
   ]
  },
  {
   "cell_type": "code",
   "execution_count": null,
   "metadata": {},
   "outputs": [],
   "source": [
    "# Because of the different varying image sizes, let's "
   ]
  },
  {
   "cell_type": "code",
   "execution_count": null,
   "metadata": {},
   "outputs": [],
   "source": [
    "IMG_SIZE = 64\n",
    "\n",
    "new_array = cv2.resize(img_array, (IMG_SIZE, IMG_SIZE))\n",
    "plt.imshow(new_array, cmap='gray')\n",
    "plt.show() # Show resize image"
   ]
  },
  {
   "cell_type": "code",
   "execution_count": null,
   "metadata": {},
   "outputs": [],
   "source": [
    "\n",
    "def create_training_data():\n",
    "    for category in CATEGORIES:  # do 0,1,2,3, .....\n",
    "\n",
    "        path = os.path.join(DATADIR,category)  # create path to categories\n",
    "        class_num = CATEGORIES.index(category)  # get the classification\n",
    "\n",
    "        for img in tqdm(os.listdir(path)):  # iterate over each image\n",
    "            try:\n",
    "                img_array = cv2.imread(os.path.join(path,img) ,cv2.IMREAD_GRAYSCALE)  # convert to array\n",
    "                new_array = cv2.resize(img_array, (IMG_SIZE, IMG_SIZE))  # resize to normalize data size\n",
    "                training_data.append([new_array, class_num])  # add this to our training_data\n",
    "            except Exception as e:  # in the interest in keeping the output clean...\n",
    "                pass\n",
    "            \n",
    "create_training_data() # call function"
   ]
  },
  {
   "cell_type": "code",
   "execution_count": null,
   "metadata": {},
   "outputs": [],
   "source": [
    "import random\n",
    "random.shuffle(training_data)\n",
    "\n",
    "# Check\n",
    "for sample in training_data[:10]:\n",
    "    print(sample[1])"
   ]
  },
  {
   "cell_type": "code",
   "execution_count": null,
   "metadata": {},
   "outputs": [],
   "source": [
    "X = []\n",
    "Y = []\n",
    "\n",
    "for features,label in training_data:\n",
    "    X.append(features)\n",
    "    Y.append(label)\n",
    "\n",
    "print(X[0].reshape(-1, IMG_SIZE, IMG_SIZE, 1))\n",
    "\n",
    "X = np.array(X).reshape(-1, IMG_SIZE, IMG_SIZE, 1)"
   ]
  },
  {
   "cell_type": "code",
   "execution_count": null,
   "metadata": {},
   "outputs": [],
   "source": [
    "import pickle\n",
    "\n",
    "pickle_out = open(\"/working/X.pickle\", \"wb\")               \n",
    "pickle.dump(X, pickle_out)\n",
    "pickle_out.close()\n",
    "\n",
    "pickle_out = open(\"/working/Y.pickle\",\"wb\")\n",
    "pickle.dump(Y, pickle_out)\n",
    "pickle_out.close()"
   ]
  },
  {
   "cell_type": "code",
   "execution_count": null,
   "metadata": {},
   "outputs": [],
   "source": [
    "# - ImageDataGenerator\n",
    "# - class_mode='input'"
   ]
  },
  {
   "cell_type": "code",
   "execution_count": null,
   "metadata": {},
   "outputs": [],
   "source": [
    "# shear_range\n",
    "# zoom_range\n",
    "# horizontal_flip"
   ]
  },
  {
   "cell_type": "code",
   "execution_count": null,
   "metadata": {},
   "outputs": [],
   "source": [
    "# generator shuffling"
   ]
  },
  {
   "cell_type": "code",
   "execution_count": null,
   "metadata": {},
   "outputs": [],
   "source": []
  },
  {
   "cell_type": "markdown",
   "metadata": {},
   "source": [
    "### Question\n",
    "- resizing\n",
    "- normalization / standardization\n",
    "- TensorBoard evaluation"
   ]
  },
  {
   "cell_type": "code",
   "execution_count": null,
   "metadata": {},
   "outputs": [],
   "source": []
  }
 ],
 "metadata": {
  "kernelspec": {
   "display_name": "Python 3",
   "language": "python",
   "name": "python3"
  },
  "language_info": {
   "codemirror_mode": {
    "name": "ipython",
    "version": 3
   },
   "file_extension": ".py",
   "mimetype": "text/x-python",
   "name": "python",
   "nbconvert_exporter": "python",
   "pygments_lexer": "ipython3",
   "version": "3.8.5"
  }
 },
 "nbformat": 4,
 "nbformat_minor": 4
}
